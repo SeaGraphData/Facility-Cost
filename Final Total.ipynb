{
 "cells": [
  {
   "cell_type": "code",
   "execution_count": 25,
   "metadata": {},
   "outputs": [
    {
     "name": "stdout",
     "output_type": "stream",
     "text": [
      "                                 0              1              2   \\\n",
      "Investment           -859747.669405       0.000000       0.000000   \n",
      "Sales                      0.000000  591300.000000  609039.000000   \n",
      "Depreciation               0.000000 -644810.752054 -644810.752054   \n",
      "Loan principal             0.000000 -107413.792906 -111710.344622   \n",
      "Loan interest              0.000000  -51584.860164  -47288.308448   \n",
      "Salaries                   0.000000 -360000.000000 -367200.000000   \n",
      "Water                      0.000000 -101703.600000 -104754.708000   \n",
      "EBT                  -859747.669405 -566799.212218 -555014.768502   \n",
      "Taxes                      0.000000       0.000000       0.000000   \n",
      "EAT                  -859747.669405 -566799.212218 -555014.768502   \n",
      "Cash Flow            -859747.669405  -29402.253070  -21914.361070   \n",
      "Cumulative Cash Flow -859747.669405 -889149.922475 -911064.283545   \n",
      "\n",
      "                                 3              4              5   \\\n",
      "Investment                 0.000000       0.000000       0.000000   \n",
      "Sales                 627310.170000  646129.475100  665513.359353   \n",
      "Depreciation         -644810.752054 -214936.917351       0.000000   \n",
      "Loan principal       -116178.758407 -120825.908743 -125658.945093   \n",
      "Loan interest         -42819.894663  -38172.744327  -33339.707977   \n",
      "Salaries             -374544.000000 -382034.880000 -389675.577600   \n",
      "Water                -107897.349240 -111134.269717 -114468.297809   \n",
      "EBT                  -542761.825957 -100149.336295  128029.775967   \n",
      "Taxes                      0.000000       0.000000  -38408.932790   \n",
      "EAT                  -542761.825957 -100149.336295  166438.708757   \n",
      "Cash Flow             -14129.832310   -6038.327687   40779.763665   \n",
      "Cumulative Cash Flow -925194.115855 -931232.443542 -890452.679877   \n",
      "\n",
      "                                 6              7              8   \\\n",
      "Investment                 0.000000       0.000000       0.000000   \n",
      "Sales                 685478.760134  706043.122938  727224.416626   \n",
      "Depreciation               0.000000       0.000000       0.000000   \n",
      "Loan principal       -130685.302896 -135912.715012 -141349.223613   \n",
      "Loan interest         -28313.350174  -23085.938058  -17649.429457   \n",
      "Salaries             -397469.089152 -405418.470935 -413526.840354   \n",
      "Water                -117902.346743 -121439.417145 -125082.599660   \n",
      "EBT                   141793.974065  156099.296800  170965.547155   \n",
      "Taxes                 -42538.192220  -46829.789040  -51289.664147   \n",
      "EAT                   184332.166285  202929.085840  222255.211302   \n",
      "Cash Flow              53646.863388   67016.370827   80905.987689   \n",
      "Cumulative Cash Flow -836805.816489 -769789.445662 -688883.457973   \n",
      "\n",
      "                                 9              10             11  \\\n",
      "Investment                 0.000000       0.000000       0.000000   \n",
      "Sales                 749041.149124  771512.383598  794657.755106   \n",
      "Depreciation               0.000000       0.000000       0.000000   \n",
      "Loan principal       -147003.192557 -152883.320259       0.000000   \n",
      "Loan interest         -11995.460513   -6115.332810       0.000000   \n",
      "Salaries             -421797.377161 -430233.324704 -438837.991198   \n",
      "Water                -128835.077649 -132700.129979 -136681.133878   \n",
      "EBT                   186413.233802  202463.596105  219138.630030   \n",
      "Taxes                 -55923.970140  -60739.078831  -65741.589009   \n",
      "EAT                   242337.203942  263202.674936  284880.219039   \n",
      "Cash Flow              95334.011385  110319.354677  284880.219039   \n",
      "Cumulative Cash Flow -593549.446588 -483230.091911 -198349.872872   \n",
      "\n",
      "                                 12             13             14  \\\n",
      "Investment                 0.000000       0.000000       0.000000   \n",
      "Sales                 818497.487759  843052.412392  868343.984764   \n",
      "Depreciation               0.000000       0.000000       0.000000   \n",
      "Loan principal             0.000000       0.000000       0.000000   \n",
      "Loan interest              0.000000       0.000000       0.000000   \n",
      "Salaries             -447614.751022 -456567.046043 -465698.386963   \n",
      "Water                -140781.567895 -145005.014931 -149355.165379   \n",
      "EBT                   230101.168843  241480.351418  253290.432421   \n",
      "Taxes                 -69030.350653  -72444.105425  -75987.129726   \n",
      "EAT                   299131.519495  313924.456844  329277.562147   \n",
      "Cash Flow             299131.519495  313924.456844  329277.562147   \n",
      "Cumulative Cash Flow  100781.646623  414706.103467  743983.665615   \n",
      "\n",
      "                                15            16            17            18  \\\n",
      "Investment            0.000000e+00  0.000000e+00  0.000000e+00  0.000000e+00   \n",
      "Sales                 8.943943e+05  9.212261e+05  9.488629e+05  9.773288e+05   \n",
      "Depreciation          0.000000e+00  0.000000e+00  0.000000e+00  0.000000e+00   \n",
      "Loan principal        0.000000e+00  0.000000e+00  0.000000e+00  0.000000e+00   \n",
      "Loan interest         0.000000e+00  0.000000e+00  0.000000e+00  0.000000e+00   \n",
      "Salaries             -4.750124e+05 -4.845126e+05 -4.942029e+05 -5.040869e+05   \n",
      "Water                -1.538358e+05 -1.584509e+05 -1.632044e+05 -1.681006e+05   \n",
      "EBT                   2.655461e+05  2.782626e+05  2.914556e+05  3.051413e+05   \n",
      "Taxes                -7.966384e+04 -8.347879e+04 -8.743669e+04 -9.154240e+04   \n",
      "EAT                   3.452100e+05  3.617414e+05  3.788923e+05  3.966837e+05   \n",
      "Cash Flow             3.452100e+05  3.617414e+05  3.788923e+05  3.966837e+05   \n",
      "Cumulative Cash Flow  1.089194e+06  1.450935e+06  1.829827e+06  2.226511e+06   \n",
      "\n",
      "                                19  \n",
      "Investment            0.000000e+00  \n",
      "Sales                 1.006649e+06  \n",
      "Depreciation          0.000000e+00  \n",
      "Loan principal        0.000000e+00  \n",
      "Loan interest         0.000000e+00  \n",
      "Salaries             -5.141686e+05  \n",
      "Water                -1.731436e+05  \n",
      "EBT                   3.193364e+05  \n",
      "Taxes                -9.580093e+04  \n",
      "EAT                   4.151374e+05  \n",
      "Cash Flow             4.151374e+05  \n",
      "Cumulative Cash Flow  2.641649e+06  \n"
     ]
    },
    {
     "name": "stderr",
     "output_type": "stream",
     "text": [
      "/anaconda/lib/python3.6/site-packages/matplotlib/axes/_axes.py:6097: UserWarning: 2D hist input should be nsamples x nvariables;\n",
      " this looks transposed (shape is 12 x 20)\n",
      "  '(shape is %d x %d)' % inp.shape[::-1])\n"
     ]
    },
    {
     "data": {
      "image/png": "[encoded data removed]",
      "text/plain": [
       "<matplotlib.figure.Figure at 0x11c8fdb70>"
      ]
     },
     "metadata": {},
     "output_type": "display_data"
    }
   ],
   "source": [
    "import pandas as pd \n",
    "import numpy as np\n",
    "import matplotlib.pyplot as plt\n",
    "%matplotlib inline\n",
    "\n",
    "from numpy_financial import pmt, ipmt, ppmt, npv, irr\n",
    "\n",
    "\n",
    "data_factors = np.array([[0.3, 0.5, 0.6],\n",
    "                         [0.8, 0.6, 0.2],\n",
    "                         [0.3, 0.3, 0.2],\n",
    "                         [0.2, 0.2, 0.15],\n",
    "                         [0.3, 0.3, 0.2],\n",
    "                         [0.2, 0.2, 0.1],\n",
    "                         [0.1, 0.1, 0.05],\n",
    "                         [0.3, 0.4, 0.4],\n",
    "                         [0.35, 0.25, 0.2],\n",
    "                         [0.1, 0.1, 0.1]])\n",
    "\n",
    "Capital_factors = pd.DataFrame(data_factors,\n",
    "                               index=[\"fer\", \"fp\", \"fi\", \"fel\", \"fc\", \"fs\", \"fl\", \"OS\", \"D&E\", \"X\"], \n",
    "                               columns=[\"Fluids\", \"Fluids-Solids\", \"Solids\"])\n",
    "\n",
    "\n",
    "capacity_factor = 0.9\n",
    "\n",
    "\n",
    "#Estimation Cash Flow Years\n",
    "years = 20\n",
    "\n",
    "\n",
    "\n",
    "class Contactica:\n",
    "    \n",
    "\n",
    "\n",
    "\n",
    "    def boiler(self, Q, p, fm=1, installed=True):\n",
    "        \n",
    "        \"\"\"Return boiler cost. Inputs:\n",
    "        Vapor production (kg/h): 5000 < Q < 800000\n",
    "        Pressure (bar): \t\t\t   10 < p < 70\n",
    "        fm = material factor\"\"\"\n",
    "\n",
    "        assert type(installed) == bool\n",
    "\n",
    "        if Q < 5000 or Q > 800000:\n",
    "            print(f\"    - WARNING: boiler vapor production out of method bounds, 5000 < Q < 800000. Results may not be accurate.\")\n",
    "\n",
    "        if p < 10 or p > 70:\n",
    "            print(f\"    - WARNING: boiler pressure out of method bounds, 10 < p < 70. Results may not be accurate.\")\n",
    "\n",
    "        if Q < 20000:\n",
    "            Cb = 106000 + 8.7*Q\n",
    "        elif Q < 200000:\n",
    "            if p < 15:\n",
    "                Cb = 110000 + 4.5*Q**0.9\n",
    "            elif p < 40:\n",
    "                Cb = 106000 + 8.7*Q\n",
    "            else:\n",
    "                Cb = 110000 + 4.5*Q**0.9\n",
    "            \n",
    "        if installed:\n",
    "            Cb *= ((1+Capital_factors.loc[\"fp\"][\"Fluids\"])*fm+(Capital_factors.loc[\"fer\"][\"Fluids\"] + Capital_factors.loc[\"fel\"][\"Fluids\"]\n",
    "                                                        + Capital_factors.loc[\"fi\"][\"Fluids\"] + Capital_factors.loc[\"fc\"][\"Fluids\"]\n",
    "                                                        + Capital_factors.loc[\"fs\"][\"Fluids\"] + Capital_factors.loc[\"fl\"][\"Fluids\"]))\n",
    "\n",
    "        return Cb\n",
    "\n",
    "\n",
    "    def pump(self, Q, fm=1, installed=True):\n",
    "        \n",
    "        \"\"\"Return centrifuge pump cost for a caudal between 0.2 and 126 L/s. Inputs:\n",
    "        phase = 'Fluids', 'Fluids - Solids' or 'Solids'\n",
    "        fm = material factor\"\"\"\n",
    "\n",
    "        assert type(installed) == bool\n",
    "\n",
    "        if Q < 0.2 or Q > 126:\n",
    "            print(f\"    - WARNING: pump caudal out of method bounds, 0.2 < Q (L/s) < 126. Results may not be accurate.\")\n",
    "    \n",
    "        Cp = 6900 + 206*Q**0.9\n",
    "\n",
    "        if installed:\n",
    "            Cp *= ((1+Capital_factors.loc[\"fp\"][\"Fluids\"])*fm+(Capital_factors.loc[\"fer\"][\"Fluids\"] + Capital_factors.loc[\"fel\"][\"Fluids\"]\n",
    "                                                         + Capital_factors.loc[\"fi\"][\"Fluids\"] + Capital_factors.loc[\"fc\"][\"Fluids\"]\n",
    "                                                         + Capital_factors.loc[\"fs\"][\"Fluids\"] + Capital_factors.loc[\"fl\"][\"Fluids\"]))\n",
    "\n",
    "        return Cp\n",
    "    \n",
    "    def steam_turbine(self, kW, fm=1, installed=True):\n",
    "        \"\"\"Return steam turbine cost for a power between 100 and 20000 kW. Inputs:\n",
    "        fm = material factor\"\"\"\n",
    "\n",
    "        assert type(installed) == bool\n",
    "    \n",
    "        if kW < 100 or kW > 20000:\n",
    "            print(f\"    - WARNING: steam turbine power out of method bounds, 100 < kW < 20000. Results may not be accurate.\")\n",
    "    \n",
    "        Cst = -12000 + 1630*kW**0.75\n",
    "\n",
    "        if installed:\n",
    "            Cst *= ((1+Capital_factors.loc[\"fp\"][\"Fluids\"])*fm +(Capital_factors.loc[\"fer\"][\"Fluids\"] + Capital_factors.loc[\"fel\"][\"Fluids\"]\n",
    "                                                             + Capital_factors.loc[\"fi\"][\"Fluids\"] + Capital_factors.loc[\"fc\"][\"Fluids\"]\n",
    "                                                             + Capital_factors.loc[\"fs\"][\"Fluids\"] + Capital_factors.loc[\"fl\"][\"Fluids\"]))\n",
    "\n",
    "        return Cst\n",
    "\n",
    "    \n",
    "    def loan(self, quantity, interest, years):\n",
    "        \"\"\"Compute annual payment of a loan. Inputs:\n",
    "        quantity [monetary units] == investment which will be funded\n",
    "        interest [as fraction of unity] == annual interest\n",
    "        years == number of yeras to return the loan.\"\"\"\n",
    "\n",
    "        assert quantity > 0\n",
    "        assert interest >= 0 and interest <= 1\n",
    "        assert years > 1\n",
    "\n",
    "        loan_payment   = pmt(interest, years, quantity)\n",
    "        loan_interest  = ipmt(interest, np.arange(years) + 1, years, quantity)\n",
    "        loan_principal = ppmt(interest, np.arange(years) + 1, years, quantity)\n",
    "        \n",
    "        return loan_payment , loan_interest , loan_principal\n",
    "\n",
    "    \n",
    "    def loanp(self, quantity, interest, years):\n",
    "        \"\"\"Compute annual payment of a loan. Inputs:\n",
    "        quantity [monetary units] == investment which will be funded\n",
    "        interest [as fraction of unity] == annual interest\n",
    "        years == number of yeras to return the loan.\"\"\"\n",
    "\n",
    "        assert quantity > 0\n",
    "        assert interest >= 0 and interest <= 1\n",
    "        assert years > 1\n",
    "\n",
    "        loan_payment   = pmt(interest, years, quantity)\n",
    "        loan_interest  = ipmt(interest, np.arange(years) + 1, years, quantity)\n",
    "        loan_principal = ppmt(interest, np.arange(years) + 1, years, quantity)\n",
    "        \n",
    "        return loan_payment\n",
    "\n",
    "\n",
    "    def loanint(self, quantity, interest, years):\n",
    "        \"\"\"Compute annual payment of a loan. Inputs:\n",
    "        quantity [monetary units] == investment which will be funded\n",
    "        interest [as fraction of unity] == annual interest\n",
    "        years == number of yeras to return the loan.\"\"\"\n",
    "\n",
    "        assert quantity > 0\n",
    "        assert interest >= 0 and interest <= 1\n",
    "        assert years > 1\n",
    "\n",
    "        loan_payment   = pmt(interest, years, quantity)\n",
    "        loan_interest  = ipmt(interest, np.arange(years) + 1, years, quantity)\n",
    "        loan_principal = ppmt(interest, np.arange(years) + 1, years, quantity)\n",
    "        \n",
    "        return loan_interest\n",
    "\n",
    "\n",
    "\n",
    "    def loanprp(self, quantity, interest, years):\n",
    "        \"\"\"Compute annual payment of a loan. Inputs:\n",
    "        quantity [monetary units] == investment which will be funded\n",
    "        interest [as fraction of unity] == annual interest\n",
    "        years == number of yeras to return the loan.\"\"\"\n",
    "\n",
    "        assert quantity > 0\n",
    "        assert interest >= 0 and interest <= 1\n",
    "        assert years > 1\n",
    "\n",
    "        loan_payment   = pmt(interest, years, quantity)\n",
    "        loan_interest  = ipmt(interest, np.arange(years) + 1, years, quantity)\n",
    "        loan_principal = ppmt(interest, np.arange(years) + 1, years, quantity)\n",
    "        \n",
    "        return loan_principal\n",
    "\n",
    "\n",
    "    \n",
    "    \n",
    "\n",
    "\n",
    "\n",
    "\n",
    "    \n",
    "    \n",
    "    \n",
    "    \n",
    "    \n",
    "    \n",
    "    \n",
    "    \n",
    "    \n",
    "    \n",
    "    def depreciation(self, annual_percent, capex, residual_value=0):\n",
    "        \"\"\"Compute annual depreciation of investment. Inputs:\n",
    "        annual_percent [as fraction of unity] == annual percent of depreciation.\n",
    "        capex [monetary units] == capital expenditure\n",
    "        residual_value[monetary units] == plant value at the end of its life.\"\"\"\n",
    "\n",
    "        assert annual_percent >= 0 and annual_percent <= 1\n",
    "\n",
    "        annual_depreciation = []\n",
    "        prev = 1\n",
    "\n",
    "        while True:\n",
    "            if prev < annual_percent:\n",
    "                annual_depreciation.append(prev)\n",
    "                break\n",
    "            annual_depreciation.append(annual_percent)\n",
    "            prev = prev - annual_percent\n",
    "\n",
    "        depreciation_array = -1 * np.array(annual_depreciation) * (capex - residual_value)\n",
    "\n",
    "        return depreciation_array\n",
    "\n",
    "\n",
    "    def cost_estimation_cond(self, costKnown, MagniEst, MagniKnown, WillFactor):\n",
    "        \n",
    "        Cestim_cond = costKnown * (MagniEst / MagniKnown)**WillFactor\n",
    "        \n",
    "        return Cestim_cond\n",
    "    \n",
    "    \n",
    "    \n",
    "    def cotex(self, Cb, Cp, Cst, Cnd):\n",
    "        \n",
    "        Cotex = Cb + Cp + Cst + Cnd\n",
    "        \n",
    "        return Cotex   \n",
    "    \n",
    "    \n",
    "    \n",
    "    \n",
    "    def water(self, MoneyTon):\n",
    "        \n",
    "        Water = MoneyTon * 10 * 8760 * capacity_factor\n",
    "        \n",
    "        return Water       \n",
    "    \n",
    "    \n",
    "    \n",
    "    def salaries(self,NumEmployee, Shift, GrossSalary):\n",
    "        \n",
    "        Sal = NumEmployee * Shift * GrossSalary\n",
    "        \n",
    "        return Sal       \n",
    "    \n",
    "    \n",
    "    \n",
    "    \n",
    "    \n",
    "    def sales(self, kW, ElectSale):\n",
    "        \n",
    "        sale = kW * ElectSale * 8760 * capacity_factor  \n",
    "        \n",
    "        return sale   \n",
    "\n",
    "    \n",
    "    \n",
    "    def Table(self, years, CTX, Dep, principal, interest, SL, Wtr, SLRY):\n",
    "        \n",
    "        \n",
    "        investment    = np.array([-CTX*0.4] + [0 for i in range(years-1)])\n",
    "        depreciation  = np.hstack(([0], Dep, [0 for i in range(years-1-len(Dep))]))\n",
    "        loan_prin     = np.hstack(([0], principal, [0 for i in range(years-1-len(principal))]))\n",
    "        loan_int      = np.hstack(([0], interest, [0 for i in range(years-1-len(interest))]))\n",
    "\n",
    "        sales_array    = np.zeros(years)\n",
    "        water_array    = np.zeros(years)\n",
    "        salaries_array = np.zeros(years)   \n",
    "\n",
    "        for i in range(years):\n",
    "            if i == 0:\n",
    "                sales_array[i]    = 0\n",
    "                water_array[i]    = 0\n",
    "                salaries_array[i] = 0\n",
    "            elif i == 1:\n",
    "                sales_array[i]    = SL\n",
    "                water_array[i]    = -1*Wtr\n",
    "                salaries_array[i] = -1*SLRY\n",
    "            else:\n",
    "                sales_array[i]    = sales_array[i-1]*1.03\n",
    "                water_array[i]    = water_array[i-1]*1.03\n",
    "                salaries_array[i] = salaries_array[i-1]*1.02\n",
    "\n",
    "        ebt   = np.vstack((investment, depreciation, loan_int, sales_array, water_array, salaries_array)).sum(axis=0)\n",
    "        taxes = ebt * -0.3\n",
    "        for i in range(len(taxes)):\n",
    "            if taxes[i] > 0:\n",
    "                taxes[i] = 0\n",
    "        eat = ebt - taxes\n",
    "        cash_flow = eat - depreciation + loan_prin\n",
    "        cumulative_cash_flow = np.cumsum(cash_flow)\n",
    "\n",
    "        data = np.vstack((investment, sales_array, depreciation, loan_prin, loan_int, salaries_array, water_array, ebt, \n",
    "                      taxes, eat, cash_flow, cumulative_cash_flow))\n",
    "        df   = pd.DataFrame(data,\n",
    "                        index=['Investment', 'Sales', 'Depreciation', 'Loan principal', 'Loan interest', 'Salaries',\n",
    "                               'Water', 'EBT', 'Taxes', 'EAT', 'Cash Flow', 'Cumulative Cash Flow'],\n",
    "                        columns=[i for i in range(years)])  \n",
    "        \n",
    "        \n",
    "        return df\n",
    "\n",
    "\n",
    "    \n",
    "  \n",
    "    \n",
    "    \n",
    "    \n",
    "    \n",
    "    \n",
    "    \n",
    "    \n",
    "    \n",
    "boiler3=Contactica()\n",
    "\n",
    "\n",
    "#Parameter Environment\n",
    "Wtr = boiler3.water(1.29)\n",
    "SLRY = boiler3.salaries(4, 3, 30000)\n",
    "SL = boiler3.sales(1500, 0.05)\n",
    "\n",
    "\n",
    "\n",
    "\n",
    "#Techical Documentation\n",
    "B = boiler3.boiler(10000,70)\n",
    "P = boiler3.pump(2.85)\n",
    "ST = boiler3.steam_turbine(1500)\n",
    "\n",
    "\n",
    "#Money Factor Environment\n",
    "Cond = boiler3.cost_estimation_cond(400000, 10000, 15000, 0.8)\n",
    "CTX = boiler3.cotex(B, P, ST, Cond)\n",
    "Dep = boiler3.depreciation(0.3, CTX)\n",
    "\n",
    "L = boiler3.loan(0.6*CTX, 0.04, 10)\n",
    "Lp= boiler3.loanp(0.6*CTX, 0.04, 10)\n",
    "Lint= boiler3.loanint(0.6*CTX, 0.04, 10)\n",
    "Lprp= boiler3.loanprp(0.6*CTX, 0.04, 10)\n",
    "\n",
    "\n",
    "\n",
    "\n",
    "\n",
    "\n",
    "#print(B, P, ST, L)\n",
    "#print(Dep)\n",
    "#Calcular Capex\n",
    "#print(CTX)\n",
    "#print(L)\n",
    "\n",
    "\n",
    "TABLE = boiler3.Table(20, CTX, Dep, Lprp, Lint, SL, Wtr, SLRY)\n",
    "print(TABLE)\n",
    "\n",
    "\n",
    "#draw the Table and details\n",
    "plt.hist(TABLE, label = 'Table of Project')\n",
    "plt.show()\n",
    "\n",
    "\n",
    "TABLE.to_excel(r'C:\\Users\\josemariafernandezmora\\Desktop\\export_dataframe.xlsx', index = False, header=True)"
   ]
  },
  {
   "cell_type": "code",
   "execution_count": null,
   "metadata": {
    "collapsed": true
   },
   "outputs": [],
   "source": []
  },
  {
   "cell_type": "code",
   "execution_count": null,
   "metadata": {
    "collapsed": true
   },
   "outputs": [],
   "source": []
  },
  {
   "cell_type": "code",
   "execution_count": null,
   "metadata": {
    "collapsed": true
   },
   "outputs": [],
   "source": []
  },
  {
   "cell_type": "code",
   "execution_count": null,
   "metadata": {
    "collapsed": true
   },
   "outputs": [],
   "source": []
  },
  {
   "cell_type": "code",
   "execution_count": 18,
   "metadata": {},
   "outputs": [
    {
     "name": "stderr",
     "output_type": "stream",
     "text": [
      "/anaconda/lib/python3.6/site-packages/matplotlib/axes/_axes.py:6097: UserWarning: 2D hist input should be nsamples x nvariables;\n",
      " this looks transposed (shape is 12 x 20)\n",
      "  '(shape is %d x %d)' % inp.shape[::-1])\n"
     ]
    },
    {
     "data": {
      "image/png": "[encoded data removed]",
      "text/plain": [
       "<matplotlib.figure.Figure at 0x11c2c29e8>"
      ]
     },
     "metadata": {},
     "output_type": "display_data"
    }
   ],
   "source": [
    "plt.hist(TABLE, label = 'Table of Project')\n",
    "plt.show()"
   ]
  },
  {
   "cell_type": "code",
   "execution_count": 22,
   "metadata": {
    "collapsed": true
   },
   "outputs": [],
   "source": [
    "TABLE.to_excel(r'C:\\Users\\Ron\\josemariafernandezmora\\export_dataframe.xlsx', index = False, header=True)"
   ]
  },
  {
   "cell_type": "code",
   "execution_count": null,
   "metadata": {
    "collapsed": true
   },
   "outputs": [],
   "source": []
  },
  {
   "cell_type": "code",
   "execution_count": null,
   "metadata": {
    "collapsed": true
   },
   "outputs": [],
   "source": []
  },
  {
   "cell_type": "code",
   "execution_count": null,
   "metadata": {
    "collapsed": true
   },
   "outputs": [],
   "source": []
  },
  {
   "cell_type": "code",
   "execution_count": null,
   "metadata": {
    "collapsed": true
   },
   "outputs": [],
   "source": []
  },
  {
   "cell_type": "code",
   "execution_count": null,
   "metadata": {
    "collapsed": true
   },
   "outputs": [],
   "source": []
  },
  {
   "cell_type": "code",
   "execution_count": null,
   "metadata": {
    "collapsed": true
   },
   "outputs": [],
   "source": []
  },
  {
   "cell_type": "code",
   "execution_count": null,
   "metadata": {
    "collapsed": true
   },
   "outputs": [],
   "source": []
  },
  {
   "cell_type": "code",
   "execution_count": null,
   "metadata": {
    "collapsed": true
   },
   "outputs": [],
   "source": []
  },
  {
   "cell_type": "code",
   "execution_count": null,
   "metadata": {
    "collapsed": true
   },
   "outputs": [],
   "source": []
  },
  {
   "cell_type": "code",
   "execution_count": null,
   "metadata": {
    "collapsed": true
   },
   "outputs": [],
   "source": []
  },
  {
   "cell_type": "code",
   "execution_count": null,
   "metadata": {
    "collapsed": true
   },
   "outputs": [],
   "source": []
  },
  {
   "cell_type": "code",
   "execution_count": null,
   "metadata": {
    "collapsed": true
   },
   "outputs": [],
   "source": []
  },
  {
   "cell_type": "code",
   "execution_count": null,
   "metadata": {
    "collapsed": true
   },
   "outputs": [],
   "source": []
  },
  {
   "cell_type": "code",
   "execution_count": null,
   "metadata": {
    "collapsed": true
   },
   "outputs": [],
   "source": []
  },
  {
   "cell_type": "code",
   "execution_count": null,
   "metadata": {
    "collapsed": true
   },
   "outputs": [],
   "source": []
  },
  {
   "cell_type": "code",
   "execution_count": null,
   "metadata": {
    "collapsed": true
   },
   "outputs": [],
   "source": []
  },
  {
   "cell_type": "code",
   "execution_count": null,
   "metadata": {
    "collapsed": true
   },
   "outputs": [],
   "source": []
  },
  {
   "cell_type": "code",
   "execution_count": null,
   "metadata": {
    "collapsed": true
   },
   "outputs": [],
   "source": []
  },
  {
   "cell_type": "code",
   "execution_count": null,
   "metadata": {
    "collapsed": true
   },
   "outputs": [],
   "source": []
  },
  {
   "cell_type": "code",
   "execution_count": null,
   "metadata": {
    "collapsed": true
   },
   "outputs": [],
   "source": []
  },
  {
   "cell_type": "code",
   "execution_count": null,
   "metadata": {
    "collapsed": true
   },
   "outputs": [],
   "source": []
  },
  {
   "cell_type": "code",
   "execution_count": null,
   "metadata": {
    "collapsed": true
   },
   "outputs": [],
   "source": []
  },
  {
   "cell_type": "code",
   "execution_count": null,
   "metadata": {
    "collapsed": true
   },
   "outputs": [],
   "source": []
  },
  {
   "cell_type": "code",
   "execution_count": null,
   "metadata": {
    "collapsed": true
   },
   "outputs": [],
   "source": []
  },
  {
   "cell_type": "code",
   "execution_count": null,
   "metadata": {
    "collapsed": true
   },
   "outputs": [],
   "source": []
  },
  {
   "cell_type": "code",
   "execution_count": null,
   "metadata": {
    "collapsed": true
   },
   "outputs": [],
   "source": []
  },
  {
   "cell_type": "code",
   "execution_count": null,
   "metadata": {
    "collapsed": true
   },
   "outputs": [],
   "source": []
  },
  {
   "cell_type": "code",
   "execution_count": null,
   "metadata": {
    "collapsed": true
   },
   "outputs": [],
   "source": []
  },
  {
   "cell_type": "code",
   "execution_count": null,
   "metadata": {
    "collapsed": true
   },
   "outputs": [],
   "source": []
  },
  {
   "cell_type": "code",
   "execution_count": null,
   "metadata": {
    "collapsed": true
   },
   "outputs": [],
   "source": []
  },
  {
   "cell_type": "code",
   "execution_count": 178,
   "metadata": {},
   "outputs": [
    {
     "data": {
      "text/plain": [
       "array([-644810.75205379, -644810.75205379, -644810.75205379,\n",
       "       -214936.91735126])"
      ]
     },
     "execution_count": 178,
     "metadata": {},
     "output_type": "execute_result"
    }
   ],
   "source": [
    "Dep"
   ]
  },
  {
   "cell_type": "code",
   "execution_count": null,
   "metadata": {
    "collapsed": true
   },
   "outputs": [],
   "source": []
  },
  {
   "cell_type": "code",
   "execution_count": null,
   "metadata": {
    "collapsed": true
   },
   "outputs": [],
   "source": []
  },
  {
   "cell_type": "code",
   "execution_count": null,
   "metadata": {
    "collapsed": true
   },
   "outputs": [],
   "source": []
  },
  {
   "cell_type": "code",
   "execution_count": null,
   "metadata": {
    "collapsed": true
   },
   "outputs": [],
   "source": []
  },
  {
   "cell_type": "code",
   "execution_count": null,
   "metadata": {
    "collapsed": true
   },
   "outputs": [],
   "source": []
  },
  {
   "cell_type": "code",
   "execution_count": null,
   "metadata": {
    "collapsed": true
   },
   "outputs": [],
   "source": []
  },
  {
   "cell_type": "code",
   "execution_count": null,
   "metadata": {
    "collapsed": true
   },
   "outputs": [],
   "source": []
  },
  {
   "cell_type": "code",
   "execution_count": null,
   "metadata": {
    "collapsed": true
   },
   "outputs": [],
   "source": []
  },
  {
   "cell_type": "code",
   "execution_count": null,
   "metadata": {
    "collapsed": true
   },
   "outputs": [],
   "source": []
  },
  {
   "cell_type": "code",
   "execution_count": null,
   "metadata": {
    "collapsed": true
   },
   "outputs": [],
   "source": []
  },
  {
   "cell_type": "code",
   "execution_count": 166,
   "metadata": {},
   "outputs": [
    {
     "data": {
      "text/plain": [
       "[-107413.52585068,\n",
       " -111710.0668847,\n",
       " -116178.46956009,\n",
       " -120825.60834249,\n",
       " -125658.63267619,\n",
       " -130684.97798324,\n",
       " -135912.37710257,\n",
       " -141348.87218667,\n",
       " -147002.82707414,\n",
       " -152882.94015711]"
      ]
     },
     "execution_count": 166,
     "metadata": {},
     "output_type": "execute_result"
    }
   ],
   "source": [
    "principal"
   ]
  },
  {
   "cell_type": "code",
   "execution_count": 167,
   "metadata": {},
   "outputs": [
    {
     "data": {
      "text/plain": [
       "[-51584.73191272,\n",
       " -47288.19087869,\n",
       " -42819.7882033,\n",
       " -38172.6494209,\n",
       " -33339.6250872,\n",
       " -28313.27978015,\n",
       " -23085.88066082,\n",
       " -17649.38557672,\n",
       " -11995.43068925,\n",
       " -6115.31760628]"
      ]
     },
     "execution_count": 167,
     "metadata": {},
     "output_type": "execute_result"
    }
   ],
   "source": [
    "interest"
   ]
  },
  {
   "cell_type": "code",
   "execution_count": null,
   "metadata": {
    "collapsed": true
   },
   "outputs": [],
   "source": []
  },
  {
   "cell_type": "code",
   "execution_count": null,
   "metadata": {
    "collapsed": true
   },
   "outputs": [],
   "source": []
  },
  {
   "cell_type": "code",
   "execution_count": null,
   "metadata": {
    "collapsed": true
   },
   "outputs": [],
   "source": []
  },
  {
   "cell_type": "code",
   "execution_count": null,
   "metadata": {
    "collapsed": true
   },
   "outputs": [],
   "source": []
  },
  {
   "cell_type": "code",
   "execution_count": null,
   "metadata": {
    "collapsed": true
   },
   "outputs": [],
   "source": []
  },
  {
   "cell_type": "code",
   "execution_count": null,
   "metadata": {
    "collapsed": true
   },
   "outputs": [],
   "source": []
  },
  {
   "cell_type": "code",
   "execution_count": null,
   "metadata": {
    "collapsed": true
   },
   "outputs": [],
   "source": [
    " "
   ]
  },
  {
   "cell_type": "code",
   "execution_count": null,
   "metadata": {
    "collapsed": true
   },
   "outputs": [],
   "source": [
    " "
   ]
  },
  {
   "cell_type": "code",
   "execution_count": null,
   "metadata": {
    "collapsed": true
   },
   "outputs": [],
   "source": []
  },
  {
   "cell_type": "code",
   "execution_count": null,
   "metadata": {
    "collapsed": true
   },
   "outputs": [],
   "source": []
  },
  {
   "cell_type": "code",
   "execution_count": null,
   "metadata": {
    "collapsed": true
   },
   "outputs": [],
   "source": []
  },
  {
   "cell_type": "code",
   "execution_count": null,
   "metadata": {
    "collapsed": true
   },
   "outputs": [],
   "source": []
  },
  {
   "cell_type": "code",
   "execution_count": null,
   "metadata": {
    "collapsed": true
   },
   "outputs": [],
   "source": []
  },
  {
   "cell_type": "code",
   "execution_count": null,
   "metadata": {
    "collapsed": true
   },
   "outputs": [],
   "source": []
  },
  {
   "cell_type": "code",
   "execution_count": 162,
   "metadata": {},
   "outputs": [
    {
     "data": {
      "text/plain": [
       "array([-644810.75205379, -644810.75205379, -644810.75205379,\n",
       "       -214936.91735126])"
      ]
     },
     "execution_count": 162,
     "metadata": {},
     "output_type": "execute_result"
    }
   ],
   "source": [
    "Dep"
   ]
  },
  {
   "cell_type": "code",
   "execution_count": null,
   "metadata": {
    "collapsed": true
   },
   "outputs": [],
   "source": []
  },
  {
   "cell_type": "code",
   "execution_count": null,
   "metadata": {
    "collapsed": true
   },
   "outputs": [],
   "source": []
  },
  {
   "cell_type": "code",
   "execution_count": null,
   "metadata": {
    "collapsed": true
   },
   "outputs": [],
   "source": []
  },
  {
   "cell_type": "code",
   "execution_count": 148,
   "metadata": {},
   "outputs": [
    {
     "ename": "NameError",
     "evalue": "name 'df' is not defined",
     "output_type": "error",
     "traceback": [
      "\u001b[0;31m---------------------------------------------------------------------------\u001b[0m",
      "\u001b[0;31mNameError\u001b[0m                                 Traceback (most recent call last)",
      "\u001b[0;32m<ipython-input-148-7ed0097d7e9e>\u001b[0m in \u001b[0;36m<module>\u001b[0;34m()\u001b[0m\n\u001b[0;32m----> 1\u001b[0;31m \u001b[0mdf\u001b[0m\u001b[0;34m\u001b[0m\u001b[0m\n\u001b[0m",
      "\u001b[0;31mNameError\u001b[0m: name 'df' is not defined"
     ]
    }
   ],
   "source": []
  },
  {
   "cell_type": "code",
   "execution_count": 163,
   "metadata": {},
   "outputs": [
    {
     "data": {
      "text/plain": [
       "array([[0.3 , 0.5 , 0.6 ],\n",
       "       [0.8 , 0.6 , 0.2 ],\n",
       "       [0.3 , 0.3 , 0.2 ],\n",
       "       [0.2 , 0.2 , 0.15],\n",
       "       [0.3 , 0.3 , 0.2 ],\n",
       "       [0.2 , 0.2 , 0.1 ],\n",
       "       [0.1 , 0.1 , 0.05],\n",
       "       [0.3 , 0.4 , 0.4 ],\n",
       "       [0.35, 0.25, 0.2 ],\n",
       "       [0.1 , 0.1 , 0.1 ]])"
      ]
     },
     "execution_count": 163,
     "metadata": {},
     "output_type": "execute_result"
    }
   ],
   "source": [
    "data_factors"
   ]
  },
  {
   "cell_type": "code",
   "execution_count": null,
   "metadata": {
    "collapsed": true
   },
   "outputs": [],
   "source": []
  },
  {
   "cell_type": "code",
   "execution_count": null,
   "metadata": {
    "collapsed": true
   },
   "outputs": [],
   "source": []
  },
  {
   "cell_type": "code",
   "execution_count": null,
   "metadata": {
    "collapsed": true
   },
   "outputs": [],
   "source": []
  },
  {
   "cell_type": "code",
   "execution_count": null,
   "metadata": {
    "collapsed": true
   },
   "outputs": [],
   "source": []
  },
  {
   "cell_type": "code",
   "execution_count": null,
   "metadata": {
    "collapsed": true
   },
   "outputs": [],
   "source": []
  },
  {
   "cell_type": "code",
   "execution_count": null,
   "metadata": {
    "collapsed": true
   },
   "outputs": [],
   "source": []
  },
  {
   "cell_type": "code",
   "execution_count": null,
   "metadata": {
    "collapsed": true
   },
   "outputs": [],
   "source": []
  },
  {
   "cell_type": "code",
   "execution_count": null,
   "metadata": {
    "collapsed": true
   },
   "outputs": [],
   "source": []
  },
  {
   "cell_type": "code",
   "execution_count": null,
   "metadata": {
    "collapsed": true
   },
   "outputs": [],
   "source": []
  },
  {
   "cell_type": "code",
   "execution_count": null,
   "metadata": {
    "collapsed": true
   },
   "outputs": [],
   "source": []
  },
  {
   "cell_type": "code",
   "execution_count": null,
   "metadata": {
    "collapsed": true
   },
   "outputs": [],
   "source": []
  },
  {
   "cell_type": "code",
   "execution_count": null,
   "metadata": {
    "collapsed": true
   },
   "outputs": [],
   "source": []
  },
  {
   "cell_type": "code",
   "execution_count": null,
   "metadata": {
    "collapsed": true
   },
   "outputs": [],
   "source": []
  },
  {
   "cell_type": "code",
   "execution_count": null,
   "metadata": {
    "collapsed": true
   },
   "outputs": [],
   "source": []
  },
  {
   "cell_type": "code",
   "execution_count": null,
   "metadata": {
    "collapsed": true
   },
   "outputs": [],
   "source": []
  },
  {
   "cell_type": "code",
   "execution_count": 131,
   "metadata": {},
   "outputs": [
    {
     "data": {
      "text/plain": [
       "2149369.1735126185"
      ]
     },
     "execution_count": 131,
     "metadata": {},
     "output_type": "execute_result"
    }
   ],
   "source": [
    "CTX"
   ]
  },
  {
   "cell_type": "code",
   "execution_count": 132,
   "metadata": {},
   "outputs": [
    {
     "data": {
      "text/plain": [
       "289192.4723193863"
      ]
     },
     "execution_count": 132,
     "metadata": {},
     "output_type": "execute_result"
    }
   ],
   "source": [
    "Cond"
   ]
  },
  {
   "cell_type": "code",
   "execution_count": null,
   "metadata": {
    "collapsed": true
   },
   "outputs": [],
   "source": []
  },
  {
   "cell_type": "code",
   "execution_count": null,
   "metadata": {
    "collapsed": true
   },
   "outputs": [],
   "source": []
  },
  {
   "cell_type": "code",
   "execution_count": null,
   "metadata": {
    "collapsed": true
   },
   "outputs": [],
   "source": []
  },
  {
   "cell_type": "code",
   "execution_count": null,
   "metadata": {
    "collapsed": true
   },
   "outputs": [],
   "source": []
  },
  {
   "cell_type": "code",
   "execution_count": null,
   "metadata": {
    "collapsed": true
   },
   "outputs": [],
   "source": []
  },
  {
   "cell_type": "code",
   "execution_count": null,
   "metadata": {
    "collapsed": true
   },
   "outputs": [],
   "source": []
  },
  {
   "cell_type": "code",
   "execution_count": null,
   "metadata": {
    "collapsed": true
   },
   "outputs": [],
   "source": []
  },
  {
   "cell_type": "code",
   "execution_count": null,
   "metadata": {
    "collapsed": true
   },
   "outputs": [],
   "source": []
  },
  {
   "cell_type": "code",
   "execution_count": null,
   "metadata": {
    "collapsed": true
   },
   "outputs": [],
   "source": []
  },
  {
   "cell_type": "code",
   "execution_count": null,
   "metadata": {
    "collapsed": true
   },
   "outputs": [],
   "source": []
  },
  {
   "cell_type": "code",
   "execution_count": null,
   "metadata": {
    "collapsed": true
   },
   "outputs": [],
   "source": []
  },
  {
   "cell_type": "code",
   "execution_count": null,
   "metadata": {
    "collapsed": true
   },
   "outputs": [],
   "source": []
  },
  {
   "cell_type": "code",
   "execution_count": null,
   "metadata": {
    "collapsed": true
   },
   "outputs": [],
   "source": []
  },
  {
   "cell_type": "code",
   "execution_count": null,
   "metadata": {
    "collapsed": true
   },
   "outputs": [],
   "source": []
  },
  {
   "cell_type": "code",
   "execution_count": null,
   "metadata": {
    "collapsed": true
   },
   "outputs": [],
   "source": []
  },
  {
   "cell_type": "code",
   "execution_count": null,
   "metadata": {
    "collapsed": true
   },
   "outputs": [],
   "source": []
  },
  {
   "cell_type": "code",
   "execution_count": null,
   "metadata": {
    "collapsed": true
   },
   "outputs": [],
   "source": []
  },
  {
   "cell_type": "code",
   "execution_count": null,
   "metadata": {
    "collapsed": true
   },
   "outputs": [],
   "source": []
  },
  {
   "cell_type": "code",
   "execution_count": null,
   "metadata": {
    "collapsed": true
   },
   "outputs": [],
   "source": []
  },
  {
   "cell_type": "code",
   "execution_count": null,
   "metadata": {
    "collapsed": true
   },
   "outputs": [],
   "source": []
  },
  {
   "cell_type": "code",
   "execution_count": null,
   "metadata": {
    "collapsed": true
   },
   "outputs": [],
   "source": []
  },
  {
   "cell_type": "code",
   "execution_count": null,
   "metadata": {
    "collapsed": true
   },
   "outputs": [],
   "source": []
  },
  {
   "cell_type": "code",
   "execution_count": null,
   "metadata": {
    "collapsed": true
   },
   "outputs": [],
   "source": []
  },
  {
   "cell_type": "code",
   "execution_count": null,
   "metadata": {
    "collapsed": true
   },
   "outputs": [],
   "source": []
  },
  {
   "cell_type": "code",
   "execution_count": null,
   "metadata": {
    "collapsed": true
   },
   "outputs": [],
   "source": []
  },
  {
   "cell_type": "code",
   "execution_count": null,
   "metadata": {
    "collapsed": true
   },
   "outputs": [],
   "source": []
  },
  {
   "cell_type": "code",
   "execution_count": null,
   "metadata": {
    "collapsed": true
   },
   "outputs": [],
   "source": []
  },
  {
   "cell_type": "code",
   "execution_count": null,
   "metadata": {
    "collapsed": true
   },
   "outputs": [],
   "source": []
  },
  {
   "cell_type": "code",
   "execution_count": null,
   "metadata": {
    "collapsed": true
   },
   "outputs": [],
   "source": []
  },
  {
   "cell_type": "code",
   "execution_count": null,
   "metadata": {
    "collapsed": true
   },
   "outputs": [],
   "source": []
  },
  {
   "cell_type": "code",
   "execution_count": null,
   "metadata": {
    "collapsed": true
   },
   "outputs": [],
   "source": []
  },
  {
   "cell_type": "code",
   "execution_count": null,
   "metadata": {
    "collapsed": true
   },
   "outputs": [],
   "source": []
  },
  {
   "cell_type": "code",
   "execution_count": null,
   "metadata": {
    "collapsed": true
   },
   "outputs": [],
   "source": []
  },
  {
   "cell_type": "code",
   "execution_count": null,
   "metadata": {
    "collapsed": true
   },
   "outputs": [],
   "source": []
  },
  {
   "cell_type": "code",
   "execution_count": null,
   "metadata": {
    "collapsed": true
   },
   "outputs": [],
   "source": []
  },
  {
   "cell_type": "code",
   "execution_count": null,
   "metadata": {
    "collapsed": true
   },
   "outputs": [],
   "source": []
  },
  {
   "cell_type": "code",
   "execution_count": null,
   "metadata": {
    "collapsed": true
   },
   "outputs": [],
   "source": []
  },
  {
   "cell_type": "code",
   "execution_count": null,
   "metadata": {
    "collapsed": true
   },
   "outputs": [],
   "source": []
  },
  {
   "cell_type": "code",
   "execution_count": null,
   "metadata": {
    "collapsed": true
   },
   "outputs": [],
   "source": []
  },
  {
   "cell_type": "code",
   "execution_count": null,
   "metadata": {
    "collapsed": true
   },
   "outputs": [],
   "source": []
  },
  {
   "cell_type": "code",
   "execution_count": null,
   "metadata": {
    "collapsed": true
   },
   "outputs": [],
   "source": []
  },
  {
   "cell_type": "code",
   "execution_count": null,
   "metadata": {
    "collapsed": true
   },
   "outputs": [],
   "source": []
  },
  {
   "cell_type": "code",
   "execution_count": null,
   "metadata": {
    "collapsed": true
   },
   "outputs": [],
   "source": []
  },
  {
   "cell_type": "code",
   "execution_count": null,
   "metadata": {
    "collapsed": true
   },
   "outputs": [],
   "source": []
  },
  {
   "cell_type": "code",
   "execution_count": null,
   "metadata": {
    "collapsed": true
   },
   "outputs": [],
   "source": []
  },
  {
   "cell_type": "code",
   "execution_count": null,
   "metadata": {
    "collapsed": true
   },
   "outputs": [],
   "source": []
  },
  {
   "cell_type": "code",
   "execution_count": null,
   "metadata": {
    "collapsed": true
   },
   "outputs": [],
   "source": []
  },
  {
   "cell_type": "code",
   "execution_count": null,
   "metadata": {
    "collapsed": true
   },
   "outputs": [],
   "source": []
  },
  {
   "cell_type": "code",
   "execution_count": null,
   "metadata": {
    "collapsed": true
   },
   "outputs": [],
   "source": []
  },
  {
   "cell_type": "code",
   "execution_count": null,
   "metadata": {
    "collapsed": true
   },
   "outputs": [],
   "source": []
  },
  {
   "cell_type": "code",
   "execution_count": null,
   "metadata": {
    "collapsed": true
   },
   "outputs": [],
   "source": []
  },
  {
   "cell_type": "code",
   "execution_count": null,
   "metadata": {
    "collapsed": true
   },
   "outputs": [],
   "source": []
  },
  {
   "cell_type": "code",
   "execution_count": null,
   "metadata": {
    "collapsed": true
   },
   "outputs": [],
   "source": []
  },
  {
   "cell_type": "code",
   "execution_count": null,
   "metadata": {
    "collapsed": true
   },
   "outputs": [],
   "source": []
  },
  {
   "cell_type": "code",
   "execution_count": null,
   "metadata": {
    "collapsed": true
   },
   "outputs": [],
   "source": []
  },
  {
   "cell_type": "code",
   "execution_count": null,
   "metadata": {
    "collapsed": true
   },
   "outputs": [],
   "source": []
  },
  {
   "cell_type": "code",
   "execution_count": null,
   "metadata": {
    "collapsed": true
   },
   "outputs": [],
   "source": []
  },
  {
   "cell_type": "code",
   "execution_count": null,
   "metadata": {
    "collapsed": true
   },
   "outputs": [],
   "source": []
  },
  {
   "cell_type": "code",
   "execution_count": null,
   "metadata": {
    "collapsed": true
   },
   "outputs": [],
   "source": []
  },
  {
   "cell_type": "code",
   "execution_count": null,
   "metadata": {
    "collapsed": true
   },
   "outputs": [],
   "source": []
  },
  {
   "cell_type": "code",
   "execution_count": null,
   "metadata": {
    "collapsed": true
   },
   "outputs": [],
   "source": []
  },
  {
   "cell_type": "code",
   "execution_count": null,
   "metadata": {
    "collapsed": true
   },
   "outputs": [],
   "source": []
  },
  {
   "cell_type": "code",
   "execution_count": null,
   "metadata": {
    "collapsed": true
   },
   "outputs": [],
   "source": []
  },
  {
   "cell_type": "code",
   "execution_count": null,
   "metadata": {
    "collapsed": true
   },
   "outputs": [],
   "source": []
  },
  {
   "cell_type": "code",
   "execution_count": null,
   "metadata": {
    "collapsed": true
   },
   "outputs": [],
   "source": []
  },
  {
   "cell_type": "code",
   "execution_count": null,
   "metadata": {
    "collapsed": true
   },
   "outputs": [],
   "source": []
  },
  {
   "cell_type": "code",
   "execution_count": null,
   "metadata": {
    "collapsed": true
   },
   "outputs": [],
   "source": []
  },
  {
   "cell_type": "code",
   "execution_count": null,
   "metadata": {
    "collapsed": true
   },
   "outputs": [],
   "source": []
  },
  {
   "cell_type": "code",
   "execution_count": null,
   "metadata": {
    "collapsed": true
   },
   "outputs": [],
   "source": []
  },
  {
   "cell_type": "code",
   "execution_count": null,
   "metadata": {
    "collapsed": true
   },
   "outputs": [],
   "source": []
  },
  {
   "cell_type": "code",
   "execution_count": null,
   "metadata": {
    "collapsed": true
   },
   "outputs": [],
   "source": []
  },
  {
   "cell_type": "code",
   "execution_count": null,
   "metadata": {
    "collapsed": true
   },
   "outputs": [],
   "source": []
  },
  {
   "cell_type": "code",
   "execution_count": null,
   "metadata": {
    "collapsed": true
   },
   "outputs": [],
   "source": []
  },
  {
   "cell_type": "code",
   "execution_count": null,
   "metadata": {
    "collapsed": true
   },
   "outputs": [],
   "source": []
  },
  {
   "cell_type": "code",
   "execution_count": null,
   "metadata": {
    "collapsed": true
   },
   "outputs": [],
   "source": []
  },
  {
   "cell_type": "code",
   "execution_count": null,
   "metadata": {
    "collapsed": true
   },
   "outputs": [],
   "source": []
  },
  {
   "cell_type": "code",
   "execution_count": null,
   "metadata": {
    "collapsed": true
   },
   "outputs": [],
   "source": []
  },
  {
   "cell_type": "code",
   "execution_count": null,
   "metadata": {
    "collapsed": true
   },
   "outputs": [],
   "source": []
  },
  {
   "cell_type": "code",
   "execution_count": null,
   "metadata": {
    "collapsed": true
   },
   "outputs": [],
   "source": []
  },
  {
   "cell_type": "code",
   "execution_count": null,
   "metadata": {
    "collapsed": true
   },
   "outputs": [],
   "source": []
  },
  {
   "cell_type": "code",
   "execution_count": 52,
   "metadata": {
    "collapsed": true
   },
   "outputs": [],
   "source": []
  },
  {
   "cell_type": "code",
   "execution_count": null,
   "metadata": {
    "collapsed": true
   },
   "outputs": [],
   "source": []
  },
  {
   "cell_type": "code",
   "execution_count": null,
   "metadata": {
    "collapsed": true
   },
   "outputs": [],
   "source": []
  },
  {
   "cell_type": "code",
   "execution_count": null,
   "metadata": {
    "collapsed": true
   },
   "outputs": [],
   "source": []
  },
  {
   "cell_type": "code",
   "execution_count": null,
   "metadata": {
    "collapsed": true
   },
   "outputs": [],
   "source": []
  },
  {
   "cell_type": "code",
   "execution_count": null,
   "metadata": {
    "collapsed": true
   },
   "outputs": [],
   "source": []
  },
  {
   "cell_type": "code",
   "execution_count": null,
   "metadata": {
    "collapsed": true
   },
   "outputs": [],
   "source": []
  },
  {
   "cell_type": "code",
   "execution_count": null,
   "metadata": {
    "collapsed": true
   },
   "outputs": [],
   "source": []
  },
  {
   "cell_type": "code",
   "execution_count": null,
   "metadata": {
    "collapsed": true
   },
   "outputs": [],
   "source": []
  },
  {
   "cell_type": "code",
   "execution_count": null,
   "metadata": {
    "collapsed": true
   },
   "outputs": [],
   "source": []
  },
  {
   "cell_type": "code",
   "execution_count": null,
   "metadata": {
    "collapsed": true
   },
   "outputs": [],
   "source": []
  },
  {
   "cell_type": "code",
   "execution_count": null,
   "metadata": {
    "collapsed": true
   },
   "outputs": [],
   "source": []
  },
  {
   "cell_type": "code",
   "execution_count": null,
   "metadata": {
    "collapsed": true
   },
   "outputs": [],
   "source": []
  },
  {
   "cell_type": "code",
   "execution_count": null,
   "metadata": {
    "collapsed": true
   },
   "outputs": [],
   "source": []
  },
  {
   "cell_type": "code",
   "execution_count": null,
   "metadata": {
    "collapsed": true
   },
   "outputs": [],
   "source": []
  },
  {
   "cell_type": "code",
   "execution_count": null,
   "metadata": {
    "collapsed": true
   },
   "outputs": [],
   "source": []
  },
  {
   "cell_type": "code",
   "execution_count": null,
   "metadata": {
    "collapsed": true
   },
   "outputs": [],
   "source": []
  },
  {
   "cell_type": "code",
   "execution_count": null,
   "metadata": {
    "collapsed": true
   },
   "outputs": [],
   "source": []
  },
  {
   "cell_type": "code",
   "execution_count": null,
   "metadata": {
    "collapsed": true
   },
   "outputs": [],
   "source": []
  },
  {
   "cell_type": "code",
   "execution_count": null,
   "metadata": {
    "collapsed": true
   },
   "outputs": [],
   "source": []
  },
  {
   "cell_type": "code",
   "execution_count": null,
   "metadata": {
    "collapsed": true
   },
   "outputs": [],
   "source": []
  },
  {
   "cell_type": "code",
   "execution_count": null,
   "metadata": {
    "collapsed": true
   },
   "outputs": [],
   "source": []
  },
  {
   "cell_type": "code",
   "execution_count": null,
   "metadata": {
    "collapsed": true
   },
   "outputs": [],
   "source": []
  },
  {
   "cell_type": "code",
   "execution_count": null,
   "metadata": {
    "collapsed": true
   },
   "outputs": [],
   "source": []
  },
  {
   "cell_type": "code",
   "execution_count": null,
   "metadata": {
    "collapsed": true
   },
   "outputs": [],
   "source": []
  },
  {
   "cell_type": "code",
   "execution_count": null,
   "metadata": {
    "collapsed": true
   },
   "outputs": [],
   "source": []
  },
  {
   "cell_type": "code",
   "execution_count": null,
   "metadata": {
    "collapsed": true
   },
   "outputs": [],
   "source": []
  },
  {
   "cell_type": "code",
   "execution_count": null,
   "metadata": {
    "collapsed": true
   },
   "outputs": [],
   "source": []
  },
  {
   "cell_type": "code",
   "execution_count": null,
   "metadata": {
    "collapsed": true
   },
   "outputs": [],
   "source": []
  },
  {
   "cell_type": "code",
   "execution_count": null,
   "metadata": {
    "collapsed": true
   },
   "outputs": [],
   "source": []
  },
  {
   "cell_type": "code",
   "execution_count": null,
   "metadata": {
    "collapsed": true
   },
   "outputs": [],
   "source": []
  },
  {
   "cell_type": "code",
   "execution_count": null,
   "metadata": {
    "collapsed": true
   },
   "outputs": [],
   "source": []
  },
  {
   "cell_type": "code",
   "execution_count": null,
   "metadata": {
    "collapsed": true
   },
   "outputs": [],
   "source": []
  },
  {
   "cell_type": "code",
   "execution_count": null,
   "metadata": {
    "collapsed": true
   },
   "outputs": [],
   "source": []
  },
  {
   "cell_type": "code",
   "execution_count": null,
   "metadata": {
    "collapsed": true
   },
   "outputs": [],
   "source": []
  },
  {
   "cell_type": "code",
   "execution_count": null,
   "metadata": {
    "collapsed": true
   },
   "outputs": [],
   "source": []
  },
  {
   "cell_type": "code",
   "execution_count": null,
   "metadata": {
    "collapsed": true
   },
   "outputs": [],
   "source": []
  },
  {
   "cell_type": "code",
   "execution_count": null,
   "metadata": {
    "collapsed": true
   },
   "outputs": [],
   "source": []
  },
  {
   "cell_type": "code",
   "execution_count": null,
   "metadata": {
    "collapsed": true
   },
   "outputs": [],
   "source": []
  },
  {
   "cell_type": "code",
   "execution_count": null,
   "metadata": {
    "collapsed": true
   },
   "outputs": [],
   "source": []
  },
  {
   "cell_type": "code",
   "execution_count": null,
   "metadata": {
    "collapsed": true
   },
   "outputs": [],
   "source": []
  },
  {
   "cell_type": "code",
   "execution_count": null,
   "metadata": {
    "collapsed": true
   },
   "outputs": [],
   "source": []
  },
  {
   "cell_type": "code",
   "execution_count": null,
   "metadata": {
    "collapsed": true
   },
   "outputs": [],
   "source": []
  },
  {
   "cell_type": "code",
   "execution_count": null,
   "metadata": {
    "collapsed": true
   },
   "outputs": [],
   "source": []
  },
  {
   "cell_type": "code",
   "execution_count": null,
   "metadata": {
    "collapsed": true
   },
   "outputs": [],
   "source": []
  },
  {
   "cell_type": "code",
   "execution_count": null,
   "metadata": {
    "collapsed": true
   },
   "outputs": [],
   "source": []
  },
  {
   "cell_type": "code",
   "execution_count": null,
   "metadata": {
    "collapsed": true
   },
   "outputs": [],
   "source": []
  },
  {
   "cell_type": "code",
   "execution_count": null,
   "metadata": {
    "collapsed": true
   },
   "outputs": [],
   "source": []
  },
  {
   "cell_type": "code",
   "execution_count": null,
   "metadata": {
    "collapsed": true
   },
   "outputs": [],
   "source": []
  },
  {
   "cell_type": "code",
   "execution_count": null,
   "metadata": {
    "collapsed": true
   },
   "outputs": [],
   "source": []
  },
  {
   "cell_type": "code",
   "execution_count": null,
   "metadata": {
    "collapsed": true
   },
   "outputs": [],
   "source": []
  },
  {
   "cell_type": "code",
   "execution_count": null,
   "metadata": {
    "collapsed": true
   },
   "outputs": [],
   "source": []
  },
  {
   "cell_type": "code",
   "execution_count": null,
   "metadata": {
    "collapsed": true
   },
   "outputs": [],
   "source": []
  },
  {
   "cell_type": "code",
   "execution_count": null,
   "metadata": {
    "collapsed": true
   },
   "outputs": [],
   "source": []
  },
  {
   "cell_type": "code",
   "execution_count": null,
   "metadata": {
    "collapsed": true
   },
   "outputs": [],
   "source": []
  },
  {
   "cell_type": "code",
   "execution_count": null,
   "metadata": {
    "collapsed": true
   },
   "outputs": [],
   "source": []
  },
  {
   "cell_type": "code",
   "execution_count": null,
   "metadata": {
    "collapsed": true
   },
   "outputs": [],
   "source": []
  },
  {
   "cell_type": "code",
   "execution_count": null,
   "metadata": {
    "collapsed": true
   },
   "outputs": [],
   "source": []
  },
  {
   "cell_type": "code",
   "execution_count": null,
   "metadata": {
    "collapsed": true
   },
   "outputs": [],
   "source": []
  },
  {
   "cell_type": "code",
   "execution_count": null,
   "metadata": {
    "collapsed": true
   },
   "outputs": [],
   "source": []
  },
  {
   "cell_type": "code",
   "execution_count": null,
   "metadata": {
    "collapsed": true
   },
   "outputs": [],
   "source": []
  },
  {
   "cell_type": "code",
   "execution_count": null,
   "metadata": {
    "collapsed": true
   },
   "outputs": [],
   "source": []
  },
  {
   "cell_type": "code",
   "execution_count": null,
   "metadata": {
    "collapsed": true
   },
   "outputs": [],
   "source": []
  },
  {
   "cell_type": "code",
   "execution_count": null,
   "metadata": {
    "collapsed": true
   },
   "outputs": [],
   "source": []
  },
  {
   "cell_type": "code",
   "execution_count": null,
   "metadata": {
    "collapsed": true
   },
   "outputs": [],
   "source": [
    " "
   ]
  }
 ],
 "metadata": {
  "kernelspec": {
   "display_name": "Python 3",
   "language": "python",
   "name": "python3"
  },
  "language_info": {
   "codemirror_mode": {
    "name": "ipython",
    "version": 3
   },
   "file_extension": ".py",
   "mimetype": "text/x-python",
   "name": "python",
   "nbconvert_exporter": "python",
   "pygments_lexer": "ipython3",
   "version": "3.6.1"
  }
 },
 "nbformat": 4,
 "nbformat_minor": 2
}
